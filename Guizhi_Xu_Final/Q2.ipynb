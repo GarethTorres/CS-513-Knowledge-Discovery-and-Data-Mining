{
 "cells": [
  {
   "cell_type": "code",
   "execution_count": 271,
   "metadata": {},
   "outputs": [],
   "source": [
    "# importing metrics\n",
    "import pandas as pd \n",
    "from sklearn.model_selection import train_test_split \n",
    "from sklearn.ensemble import RandomForestClassifier \n",
    "from sklearn.preprocessing import LabelEncoder\n",
    "from sklearn.metrics import accuracy_score, precision_score, recall_score, f1_score\n",
    "from sklearn.metrics import classification_report\n"
   ]
  },
  {
   "cell_type": "code",
   "execution_count": 272,
   "metadata": {},
   "outputs": [
    {
     "data": {
      "text/html": [
       "<div>\n",
       "<style scoped>\n",
       "    .dataframe tbody tr th:only-of-type {\n",
       "        vertical-align: middle;\n",
       "    }\n",
       "\n",
       "    .dataframe tbody tr th {\n",
       "        vertical-align: top;\n",
       "    }\n",
       "\n",
       "    .dataframe thead th {\n",
       "        text-align: right;\n",
       "    }\n",
       "</style>\n",
       "<table border=\"1\" class=\"dataframe\">\n",
       "  <thead>\n",
       "    <tr style=\"text-align: right;\">\n",
       "      <th></th>\n",
       "      <th>STATEFIPS</th>\n",
       "      <th>STATE</th>\n",
       "      <th>zipcode</th>\n",
       "      <th>Returns_pct1</th>\n",
       "      <th>Returns_pct2</th>\n",
       "      <th>Returns_pct3</th>\n",
       "      <th>Returns_pct4</th>\n",
       "      <th>Returns_pct5</th>\n",
       "      <th>Returns_pct6</th>\n",
       "      <th>total</th>\n",
       "    </tr>\n",
       "  </thead>\n",
       "  <tbody>\n",
       "    <tr>\n",
       "      <th>0</th>\n",
       "      <td>1</td>\n",
       "      <td>AL</td>\n",
       "      <td>35004</td>\n",
       "      <td>28.98</td>\n",
       "      <td>27.06</td>\n",
       "      <td>18.23</td>\n",
       "      <td>12.48</td>\n",
       "      <td>12.09</td>\n",
       "      <td>1.15</td>\n",
       "      <td>5210</td>\n",
       "    </tr>\n",
       "    <tr>\n",
       "      <th>1</th>\n",
       "      <td>1</td>\n",
       "      <td>AL</td>\n",
       "      <td>35005</td>\n",
       "      <td>42.26</td>\n",
       "      <td>30.97</td>\n",
       "      <td>14.52</td>\n",
       "      <td>6.45</td>\n",
       "      <td>5.81</td>\n",
       "      <td>0.00</td>\n",
       "      <td>3100</td>\n",
       "    </tr>\n",
       "    <tr>\n",
       "      <th>2</th>\n",
       "      <td>1</td>\n",
       "      <td>AL</td>\n",
       "      <td>35006</td>\n",
       "      <td>35.83</td>\n",
       "      <td>27.50</td>\n",
       "      <td>15.83</td>\n",
       "      <td>10.00</td>\n",
       "      <td>10.83</td>\n",
       "      <td>0.00</td>\n",
       "      <td>1200</td>\n",
       "    </tr>\n",
       "    <tr>\n",
       "      <th>3</th>\n",
       "      <td>1</td>\n",
       "      <td>AL</td>\n",
       "      <td>35007</td>\n",
       "      <td>34.09</td>\n",
       "      <td>22.19</td>\n",
       "      <td>15.24</td>\n",
       "      <td>11.22</td>\n",
       "      <td>15.24</td>\n",
       "      <td>2.01</td>\n",
       "      <td>11940</td>\n",
       "    </tr>\n",
       "    <tr>\n",
       "      <th>4</th>\n",
       "      <td>1</td>\n",
       "      <td>AL</td>\n",
       "      <td>35010</td>\n",
       "      <td>45.76</td>\n",
       "      <td>26.17</td>\n",
       "      <td>11.25</td>\n",
       "      <td>6.70</td>\n",
       "      <td>7.84</td>\n",
       "      <td>2.28</td>\n",
       "      <td>7910</td>\n",
       "    </tr>\n",
       "  </tbody>\n",
       "</table>\n",
       "</div>"
      ],
      "text/plain": [
       "   STATEFIPS STATE  zipcode  Returns_pct1  Returns_pct2  Returns_pct3  \\\n",
       "0          1    AL    35004         28.98         27.06         18.23   \n",
       "1          1    AL    35005         42.26         30.97         14.52   \n",
       "2          1    AL    35006         35.83         27.50         15.83   \n",
       "3          1    AL    35007         34.09         22.19         15.24   \n",
       "4          1    AL    35010         45.76         26.17         11.25   \n",
       "\n",
       "   Returns_pct4  Returns_pct5  Returns_pct6  total  \n",
       "0         12.48         12.09          1.15   5210  \n",
       "1          6.45          5.81          0.00   3100  \n",
       "2         10.00         10.83          0.00   1200  \n",
       "3         11.22         15.24          2.01  11940  \n",
       "4          6.70          7.84          2.28   7910  "
      ]
     },
     "execution_count": 272,
     "metadata": {},
     "output_type": "execute_result"
    }
   ],
   "source": [
    "# Import the dataset\n",
    "df = pd.read_csv(\"AL_NJ_Income_pct.csv\")\n",
    "df.head()"
   ]
  },
  {
   "cell_type": "code",
   "execution_count": 273,
   "metadata": {},
   "outputs": [
    {
     "data": {
      "text/plain": [
       "STATEFIPS       0\n",
       "STATE           0\n",
       "zipcode         0\n",
       "Returns_pct1    0\n",
       "Returns_pct2    0\n",
       "Returns_pct3    0\n",
       "Returns_pct4    0\n",
       "Returns_pct5    0\n",
       "Returns_pct6    0\n",
       "total           0\n",
       "dtype: int64"
      ]
     },
     "execution_count": 273,
     "metadata": {},
     "output_type": "execute_result"
    }
   ],
   "source": [
    "df.isna().sum()"
   ]
  },
  {
   "cell_type": "code",
   "execution_count": 274,
   "metadata": {},
   "outputs": [],
   "source": [
    "# Split the dataset into features and target\n",
    "lb = LabelEncoder()\n",
    "df['STATE'] = lb.fit_transform(df['STATE'])"
   ]
  },
  {
   "cell_type": "code",
   "execution_count": 275,
   "metadata": {},
   "outputs": [],
   "source": [
    "# Split the dataset into training and testing sets\n",
    "X = df.iloc[:,3:9]\n",
    "Y = df['STATE']"
   ]
  },
  {
   "cell_type": "code",
   "execution_count": 276,
   "metadata": {},
   "outputs": [
    {
     "data": {
      "text/html": [
       "<div>\n",
       "<style scoped>\n",
       "    .dataframe tbody tr th:only-of-type {\n",
       "        vertical-align: middle;\n",
       "    }\n",
       "\n",
       "    .dataframe tbody tr th {\n",
       "        vertical-align: top;\n",
       "    }\n",
       "\n",
       "    .dataframe thead th {\n",
       "        text-align: right;\n",
       "    }\n",
       "</style>\n",
       "<table border=\"1\" class=\"dataframe\">\n",
       "  <thead>\n",
       "    <tr style=\"text-align: right;\">\n",
       "      <th></th>\n",
       "      <th>Returns_pct1</th>\n",
       "      <th>Returns_pct2</th>\n",
       "      <th>Returns_pct3</th>\n",
       "      <th>Returns_pct4</th>\n",
       "      <th>Returns_pct5</th>\n",
       "      <th>Returns_pct6</th>\n",
       "    </tr>\n",
       "  </thead>\n",
       "  <tbody>\n",
       "    <tr>\n",
       "      <th>0</th>\n",
       "      <td>28.98</td>\n",
       "      <td>27.06</td>\n",
       "      <td>18.23</td>\n",
       "      <td>12.48</td>\n",
       "      <td>12.09</td>\n",
       "      <td>1.15</td>\n",
       "    </tr>\n",
       "    <tr>\n",
       "      <th>1</th>\n",
       "      <td>42.26</td>\n",
       "      <td>30.97</td>\n",
       "      <td>14.52</td>\n",
       "      <td>6.45</td>\n",
       "      <td>5.81</td>\n",
       "      <td>0.00</td>\n",
       "    </tr>\n",
       "    <tr>\n",
       "      <th>2</th>\n",
       "      <td>35.83</td>\n",
       "      <td>27.50</td>\n",
       "      <td>15.83</td>\n",
       "      <td>10.00</td>\n",
       "      <td>10.83</td>\n",
       "      <td>0.00</td>\n",
       "    </tr>\n",
       "    <tr>\n",
       "      <th>3</th>\n",
       "      <td>34.09</td>\n",
       "      <td>22.19</td>\n",
       "      <td>15.24</td>\n",
       "      <td>11.22</td>\n",
       "      <td>15.24</td>\n",
       "      <td>2.01</td>\n",
       "    </tr>\n",
       "    <tr>\n",
       "      <th>4</th>\n",
       "      <td>45.76</td>\n",
       "      <td>26.17</td>\n",
       "      <td>11.25</td>\n",
       "      <td>6.70</td>\n",
       "      <td>7.84</td>\n",
       "      <td>2.28</td>\n",
       "    </tr>\n",
       "    <tr>\n",
       "      <th>...</th>\n",
       "      <td>...</td>\n",
       "      <td>...</td>\n",
       "      <td>...</td>\n",
       "      <td>...</td>\n",
       "      <td>...</td>\n",
       "      <td>...</td>\n",
       "    </tr>\n",
       "    <tr>\n",
       "      <th>1162</th>\n",
       "      <td>23.88</td>\n",
       "      <td>22.39</td>\n",
       "      <td>19.40</td>\n",
       "      <td>11.94</td>\n",
       "      <td>17.91</td>\n",
       "      <td>4.48</td>\n",
       "    </tr>\n",
       "    <tr>\n",
       "      <th>1163</th>\n",
       "      <td>23.25</td>\n",
       "      <td>13.63</td>\n",
       "      <td>10.22</td>\n",
       "      <td>9.02</td>\n",
       "      <td>24.85</td>\n",
       "      <td>19.04</td>\n",
       "    </tr>\n",
       "    <tr>\n",
       "      <th>1164</th>\n",
       "      <td>50.37</td>\n",
       "      <td>30.12</td>\n",
       "      <td>10.18</td>\n",
       "      <td>3.89</td>\n",
       "      <td>4.21</td>\n",
       "      <td>1.23</td>\n",
       "    </tr>\n",
       "    <tr>\n",
       "      <th>1165</th>\n",
       "      <td>29.67</td>\n",
       "      <td>22.66</td>\n",
       "      <td>14.69</td>\n",
       "      <td>10.27</td>\n",
       "      <td>17.09</td>\n",
       "      <td>5.62</td>\n",
       "    </tr>\n",
       "    <tr>\n",
       "      <th>1166</th>\n",
       "      <td>27.90</td>\n",
       "      <td>20.66</td>\n",
       "      <td>14.63</td>\n",
       "      <td>9.95</td>\n",
       "      <td>17.50</td>\n",
       "      <td>9.35</td>\n",
       "    </tr>\n",
       "  </tbody>\n",
       "</table>\n",
       "<p>1167 rows × 6 columns</p>\n",
       "</div>"
      ],
      "text/plain": [
       "      Returns_pct1  Returns_pct2  Returns_pct3  Returns_pct4  Returns_pct5  \\\n",
       "0            28.98         27.06         18.23         12.48         12.09   \n",
       "1            42.26         30.97         14.52          6.45          5.81   \n",
       "2            35.83         27.50         15.83         10.00         10.83   \n",
       "3            34.09         22.19         15.24         11.22         15.24   \n",
       "4            45.76         26.17         11.25          6.70          7.84   \n",
       "...            ...           ...           ...           ...           ...   \n",
       "1162         23.88         22.39         19.40         11.94         17.91   \n",
       "1163         23.25         13.63         10.22          9.02         24.85   \n",
       "1164         50.37         30.12         10.18          3.89          4.21   \n",
       "1165         29.67         22.66         14.69         10.27         17.09   \n",
       "1166         27.90         20.66         14.63          9.95         17.50   \n",
       "\n",
       "      Returns_pct6  \n",
       "0             1.15  \n",
       "1             0.00  \n",
       "2             0.00  \n",
       "3             2.01  \n",
       "4             2.28  \n",
       "...            ...  \n",
       "1162          4.48  \n",
       "1163         19.04  \n",
       "1164          1.23  \n",
       "1165          5.62  \n",
       "1166          9.35  \n",
       "\n",
       "[1167 rows x 6 columns]"
      ]
     },
     "execution_count": 276,
     "metadata": {},
     "output_type": "execute_result"
    }
   ],
   "source": [
    "# Create a Random Forest classifier\n",
    "X"
   ]
  },
  {
   "cell_type": "code",
   "execution_count": 277,
   "metadata": {},
   "outputs": [
    {
     "data": {
      "text/plain": [
       "0       0\n",
       "1       0\n",
       "2       0\n",
       "3       0\n",
       "4       0\n",
       "       ..\n",
       "1162    1\n",
       "1163    1\n",
       "1164    1\n",
       "1165    1\n",
       "1166    1\n",
       "Name: STATE, Length: 1167, dtype: int64"
      ]
     },
     "execution_count": 277,
     "metadata": {},
     "output_type": "execute_result"
    }
   ],
   "source": [
    "Y"
   ]
  },
  {
   "cell_type": "code",
   "execution_count": 278,
   "metadata": {},
   "outputs": [],
   "source": [
    "# Fit the classifier to the training data\n",
    "X_train, X_test, y_train, y_test = train_test_split(X,Y,test_size=0.3,random_state=42)"
   ]
  },
  {
   "cell_type": "code",
   "execution_count": 279,
   "metadata": {},
   "outputs": [],
   "source": [
    "# Make predictions on the testing data\n",
    "RF = RandomForestClassifier()"
   ]
  },
  {
   "cell_type": "code",
   "execution_count": 280,
   "metadata": {},
   "outputs": [
    {
     "data": {
      "text/plain": [
       "RandomForestClassifier()"
      ]
     },
     "execution_count": 280,
     "metadata": {},
     "output_type": "execute_result"
    }
   ],
   "source": [
    "RF.fit(X_train,y_train)"
   ]
  },
  {
   "cell_type": "code",
   "execution_count": 281,
   "metadata": {},
   "outputs": [],
   "source": [
    "y_pred = RF.predict(X_test)"
   ]
  },
  {
   "cell_type": "code",
   "execution_count": 282,
   "metadata": {},
   "outputs": [
    {
     "name": "stdout",
     "output_type": "stream",
     "text": [
      "              precision    recall  f1-score   support\n",
      "\n",
      "          AL       0.86      0.81      0.83       188\n",
      "          NJ       0.79      0.85      0.82       163\n",
      "\n",
      "    accuracy                           0.83       351\n",
      "   macro avg       0.83      0.83      0.83       351\n",
      "weighted avg       0.83      0.83      0.83       351\n",
      "\n"
     ]
    }
   ],
   "source": [
    "print(classification_report(y_test,y_pred, target_names=['AL','NJ']))"
   ]
  },
  {
   "cell_type": "code",
   "execution_count": 283,
   "metadata": {},
   "outputs": [
    {
     "name": "stdout",
     "output_type": "stream",
     "text": [
      "Accuracy:  0.8262108262108262\n",
      "Precision:  0.7931034482758621\n",
      "Recall:  0.8466257668711656\n",
      "F1:  0.8189910979228486\n"
     ]
    }
   ],
   "source": [
    "# Compute evaluation metrics\n",
    "# What is the accuracy of your model?\n",
    "# What is the precision of the model?\n",
    "# What is the recall of the model?\n",
    "# What is the F1 of the model?\n",
    "print('Accuracy: ', accuracy_score(y_test,y_pred))\n",
    "print('Precision: ', precision_score(y_test,y_pred))\n",
    "print('Recall: ', recall_score(y_test,y_pred))\n",
    "print('F1: ', f1_score(y_test,y_pred))"
   ]
  },
  {
   "cell_type": "code",
   "execution_count": 284,
   "metadata": {},
   "outputs": [],
   "source": [
    "y_test = lb.inverse_transform(y_test)\n",
    "y_pred = lb.inverse_transform(y_pred)"
   ]
  },
  {
   "cell_type": "code",
   "execution_count": 285,
   "metadata": {},
   "outputs": [
    {
     "data": {
      "text/html": [
       "<div>\n",
       "<style scoped>\n",
       "    .dataframe tbody tr th:only-of-type {\n",
       "        vertical-align: middle;\n",
       "    }\n",
       "\n",
       "    .dataframe tbody tr th {\n",
       "        vertical-align: top;\n",
       "    }\n",
       "\n",
       "    .dataframe thead th {\n",
       "        text-align: right;\n",
       "    }\n",
       "</style>\n",
       "<table border=\"1\" class=\"dataframe\">\n",
       "  <thead>\n",
       "    <tr style=\"text-align: right;\">\n",
       "      <th>STATE</th>\n",
       "      <th>AL</th>\n",
       "      <th>NJ</th>\n",
       "    </tr>\n",
       "    <tr>\n",
       "      <th>STATE</th>\n",
       "      <th></th>\n",
       "      <th></th>\n",
       "    </tr>\n",
       "  </thead>\n",
       "  <tbody>\n",
       "    <tr>\n",
       "      <th>AL</th>\n",
       "      <td>152</td>\n",
       "      <td>36</td>\n",
       "    </tr>\n",
       "    <tr>\n",
       "      <th>NJ</th>\n",
       "      <td>25</td>\n",
       "      <td>138</td>\n",
       "    </tr>\n",
       "  </tbody>\n",
       "</table>\n",
       "</div>"
      ],
      "text/plain": [
       "STATE   AL   NJ\n",
       "STATE          \n",
       "AL     152   36\n",
       "NJ      25  138"
      ]
     },
     "execution_count": 285,
     "metadata": {},
     "output_type": "execute_result"
    }
   ],
   "source": [
    "# Show the cross tabulation of the classification. \n",
    "pd.crosstab(y_test,y_pred, colnames=['STATE'], rownames=['STATE'])"
   ]
  }
 ],
 "metadata": {
  "kernelspec": {
   "display_name": "Python 3.9.12 ('base')",
   "language": "python",
   "name": "python3"
  },
  "language_info": {
   "codemirror_mode": {
    "name": "ipython",
    "version": 3
   },
   "file_extension": ".py",
   "mimetype": "text/x-python",
   "name": "python",
   "nbconvert_exporter": "python",
   "pygments_lexer": "ipython3",
   "version": "3.9.12"
  },
  "orig_nbformat": 4,
  "vscode": {
   "interpreter": {
    "hash": "2ff14a3c0ddaa548ca1d34d8ebdfdbd658335d0cba942cbdc8a0d30be214490b"
   }
  }
 },
 "nbformat": 4,
 "nbformat_minor": 2
}
